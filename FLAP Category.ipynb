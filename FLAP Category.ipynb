{
 "cells": [
  {
   "cell_type": "code",
   "execution_count": 25,
   "id": "03bc66d9",
   "metadata": {},
   "outputs": [
    {
     "name": "stdout",
     "output_type": "stream",
     "text": [
      "<class 'pandas.core.frame.DataFrame'>\n",
      "RangeIndex: 7 entries, 0 to 6\n",
      "Data columns (total 6 columns):\n",
      " #   Column        Non-Null Count  Dtype  \n",
      "---  ------        --------------  -----  \n",
      " 0   Store         7 non-null      object \n",
      " 1   Bank Acct     4 non-null      object \n",
      " 2   Amount        7 non-null      float64\n",
      " 3   Store Length  7 non-null      int64  \n",
      " 4   Included      7 non-null      object \n",
      " 5   Category      7 non-null      object \n",
      "dtypes: float64(1), int64(1), object(4)\n",
      "memory usage: 464.0+ bytes\n",
      "None\n"
     ]
    }
   ],
   "source": [
    "import pandas as pd\n",
    "import numpy as np\n",
    "\n",
    "df = pd.DataFrame.from_dict(\n",
    "    {\n",
    "        'Store': ['Bank Fees', 'Bt12600', 'Bt12300', 'Something Else', 'AZ1001', 'TX2002','GA5009'],\n",
    "        'Bank Acct': ['B12343', 'B12344', '', 'B12345','', '', 'B1238'],\n",
    "        'Amount': [1000.00, 2000.00, 1500.00, 2500.00, 55.00, 3000.00, 3500.00],\n",
    "    }\n",
    ") \n",
    "\n",
    "df['Store Length'] = df['Store'].str.len()\n",
    "#df['Store Length'] = df['Store Length'].apply(str)\n",
    "df = df.replace('', np.nan)\n",
    "\n",
    "df['Included'] = \"No\"    # default value - change to \"YES\" as rows are categorized ( STORE | BANK | OTHER | XCPT)\n",
    "df['Category'] = 'Exception'  # default value - set for all then change by row as pciked off  XCPT means Exception\n",
    "print(df.info())"
   ]
  },
  {
   "cell_type": "code",
   "execution_count": 26,
   "id": "a9f632e1",
   "metadata": {
    "scrolled": true
   },
   "outputs": [
    {
     "ename": "ValueError",
     "evalue": "The truth value of a DataFrame is ambiguous. Use a.empty, a.bool(), a.item(), a.any() or a.all().",
     "output_type": "error",
     "traceback": [
      "\u001b[1;31m---------------------------------------------------------------------------\u001b[0m",
      "\u001b[1;31mValueError\u001b[0m                                Traceback (most recent call last)",
      "Input \u001b[1;32mIn [26]\u001b[0m, in \u001b[0;36m<module>\u001b[1;34m\u001b[0m\n\u001b[0;32m      1\u001b[0m cond1 \u001b[38;5;241m=\u001b[39m (df\u001b[38;5;241m.\u001b[39mloc[(df[\u001b[38;5;124m'\u001b[39m\u001b[38;5;124mStore Length\u001b[39m\u001b[38;5;124m'\u001b[39m]\u001b[38;5;241m.\u001b[39misin([\u001b[38;5;124m'\u001b[39m\u001b[38;5;124m6\u001b[39m\u001b[38;5;124m'\u001b[39m,\u001b[38;5;124m'\u001b[39m\u001b[38;5;124m7\u001b[39m\u001b[38;5;124m'\u001b[39m]))])  \n\u001b[0;32m      2\u001b[0m cond2 \u001b[38;5;241m=\u001b[39m (df\u001b[38;5;241m.\u001b[39mloc[(df[\u001b[38;5;124m'\u001b[39m\u001b[38;5;124mBank Acct\u001b[39m\u001b[38;5;124m'\u001b[39m]\u001b[38;5;241m.\u001b[39mstr\u001b[38;5;241m.\u001b[39mlen() \u001b[38;5;241m>\u001b[39m \u001b[38;5;241m0\u001b[39m)])\n\u001b[1;32m----> 4\u001b[0m \u001b[38;5;28;01mif\u001b[39;00m ((cond1) \u001b[38;5;129;01mand\u001b[39;00m (cond2)):     \u001b[38;5;66;03m#  Store length & Bank Acct:  Len <8 chars & NaN  for the Bank Acct\u001b[39;00m\n\u001b[0;32m      5\u001b[0m     df[\u001b[38;5;124m'\u001b[39m\u001b[38;5;124mCategory\u001b[39m\u001b[38;5;124m'\u001b[39m] \u001b[38;5;241m=\u001b[39m \u001b[38;5;124m'\u001b[39m\u001b[38;5;124mSTORE\u001b[39m\u001b[38;5;124m'\u001b[39m  \u001b[38;5;66;03m# change the Category from Exception to STORE\u001b[39;00m\n\u001b[0;32m      6\u001b[0m     df[\u001b[38;5;124m'\u001b[39m\u001b[38;5;124mIncluded\u001b[39m\u001b[38;5;124m'\u001b[39m] \u001b[38;5;241m=\u001b[39m \u001b[38;5;124m'\u001b[39m\u001b[38;5;124mYES\u001b[39m\u001b[38;5;124m'\u001b[39m    \u001b[38;5;66;03m# change the included flag to YES\u001b[39;00m\n",
      "File \u001b[1;32m~\\python_installs\\python310\\lib\\site-packages\\pandas\\core\\generic.py:1537\u001b[0m, in \u001b[0;36mNDFrame.__nonzero__\u001b[1;34m(self)\u001b[0m\n\u001b[0;32m   1535\u001b[0m \u001b[38;5;129m@final\u001b[39m\n\u001b[0;32m   1536\u001b[0m \u001b[38;5;28;01mdef\u001b[39;00m \u001b[38;5;21m__nonzero__\u001b[39m(\u001b[38;5;28mself\u001b[39m):\n\u001b[1;32m-> 1537\u001b[0m     \u001b[38;5;28;01mraise\u001b[39;00m \u001b[38;5;167;01mValueError\u001b[39;00m(\n\u001b[0;32m   1538\u001b[0m         \u001b[38;5;124mf\u001b[39m\u001b[38;5;124m\"\u001b[39m\u001b[38;5;124mThe truth value of a \u001b[39m\u001b[38;5;132;01m{\u001b[39;00m\u001b[38;5;28mtype\u001b[39m(\u001b[38;5;28mself\u001b[39m)\u001b[38;5;241m.\u001b[39m\u001b[38;5;18m__name__\u001b[39m\u001b[38;5;132;01m}\u001b[39;00m\u001b[38;5;124m is ambiguous. \u001b[39m\u001b[38;5;124m\"\u001b[39m\n\u001b[0;32m   1539\u001b[0m         \u001b[38;5;124m\"\u001b[39m\u001b[38;5;124mUse a.empty, a.bool(), a.item(), a.any() or a.all().\u001b[39m\u001b[38;5;124m\"\u001b[39m\n\u001b[0;32m   1540\u001b[0m     )\n",
      "\u001b[1;31mValueError\u001b[0m: The truth value of a DataFrame is ambiguous. Use a.empty, a.bool(), a.item(), a.any() or a.all()."
     ]
    }
   ],
   "source": [
    "cond1 = (df.loc[(df['Store Length'].isin(['6','7']))])  \n",
    "cond2 = (df.loc[(df['Bank Acct'].str.len() > 0)])\n",
    "\n",
    "if ((cond1) and (cond2)):     #  Store length & Bank Acct:  Len <8 chars & NaN  for the Bank Acct\n",
    "    df['Category'] = 'STORE'  # change the Category from Exception to STORE\n",
    "    df['Included'] = 'YES'    # change the included flag to YES\n",
    "    pass                      \n",
    "#  I can then come back and \"pick off\"  the stores separate and distinct from the Bank Fees, Other , etc.\n",
    "# either as separate dataframes or otherwise.\n",
    "\n",
    "'''\n",
    "df1[\"Category\"] = 'STORE'\n",
    "df1['Included'] = 'YES'\n",
    "df2 = (df.loc[(df['Bank Acct'].isna())])\n",
    "df2['Category'] ='EXCEPT' \n",
    "df2['Included'] = 'NO'\n",
    "print(df1)\n",
    "print(df2)\n",
    "'''"
   ]
  },
  {
   "cell_type": "code",
   "execution_count": 27,
   "id": "4ea9c0e3",
   "metadata": {},
   "outputs": [
    {
     "name": "stdout",
     "output_type": "stream",
     "text": [
      "            Store Bank Acct  Amount  Store Length Included   Category\n",
      "0       Bank Fees    B12343  1000.0             9       No  Exception\n",
      "1         Bt12600    B12344  2000.0             7       No  Exception\n",
      "2         Bt12300       NaN  1500.0             7       No  Exception\n",
      "3  Something Else    B12345  2500.0            14       No  Exception\n",
      "4          AZ1001       NaN    55.0             6       No  Exception\n",
      "5          TX2002       NaN  3000.0             6       No  Exception\n",
      "6          GA5009     B1238  3500.0             6       No  Exception\n"
     ]
    }
   ],
   "source": [
    "df.loc[(df['Store Length'] <= 8) & (df['Bank Acct'].str.len() > 0)]\n",
    "\n",
    "print(df)"
   ]
  },
  {
   "cell_type": "code",
   "execution_count": null,
   "id": "5053c517",
   "metadata": {},
   "outputs": [],
   "source": []
  }
 ],
 "metadata": {
  "kernelspec": {
   "display_name": "Python 3 (ipykernel)",
   "language": "python",
   "name": "python3"
  },
  "language_info": {
   "codemirror_mode": {
    "name": "ipython",
    "version": 3
   },
   "file_extension": ".py",
   "mimetype": "text/x-python",
   "name": "python",
   "nbconvert_exporter": "python",
   "pygments_lexer": "ipython3",
   "version": "3.10.2"
  }
 },
 "nbformat": 4,
 "nbformat_minor": 5
}
